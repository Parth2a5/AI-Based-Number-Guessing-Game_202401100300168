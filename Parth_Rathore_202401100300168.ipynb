{
  "nbformat": 4,
  "nbformat_minor": 0,
  "metadata": {
    "colab": {
      "provenance": []
    },
    "kernelspec": {
      "name": "python3",
      "display_name": "Python 3"
    },
    "language_info": {
      "name": "python"
    }
  },
  "cells": [
    {
      "cell_type": "code",
      "execution_count": 5,
      "metadata": {
        "colab": {
          "base_uri": "https://localhost:8080/"
        },
        "id": "G_e58saVhcGu",
        "outputId": "562a6faa-e70e-4d46-f373-69d161eb2bd6"
      },
      "outputs": [
        {
          "output_type": "stream",
          "name": "stdout",
          "text": [
            "Welcome to the AI Number Guessing Game!\n",
            "Think of a number between 1 and 100, and I will try to guess it!\n",
            "Press Enter when you're ready...6\n",
            "AI guesses: 50\n",
            "Is the guess too high (H), too low (L), or correct (C)? H\n",
            "AI guesses: 25\n",
            "Is the guess too high (H), too low (L), or correct (C)? H\n",
            "AI guesses: 12\n",
            "Is the guess too high (H), too low (L), or correct (C)? H\n",
            "AI guesses: 6\n",
            "Is the guess too high (H), too low (L), or correct (C)? C\n",
            "AI guessed your number 6 correctly!\n"
          ]
        }
      ],
      "source": [
        "import random\n",
        "\n",
        "def ai_guess_number(low, high):\n",
        "    \"\"\"\n",
        "    Function for the AI to guess the number using a binary search approach.\n",
        "    \"\"\"\n",
        "    while low <= high:\n",
        "        guess = (low + high) // 2  # AI guesses the midpoint\n",
        "        print(f\"AI guesses: {guess}\")\n",
        "\n",
        "        feedback = input(\"Is the guess too high (H), too low (L), or correct (C)? \").strip().upper()\n",
        "\n",
        "        if feedback == 'C':\n",
        "            print(f\"AI guessed your number {guess} correctly!\")\n",
        "            return\n",
        "        elif feedback == 'H':\n",
        "            high = guess - 1  # Adjust the upper bound\n",
        "        elif feedback == 'L':\n",
        "            low = guess + 1  # Adjust the lower bound\n",
        "        else:\n",
        "            print(\"Invalid input. Please enter H, L, or C.\")\n",
        "\n",
        "    print(\"Something went wrong. Please restart the game.\")\n",
        "\n",
        "def main():\n",
        "    \"\"\"\n",
        "    Main function to start the AI-based number guessing game.\n",
        "    \"\"\"\n",
        "    print(\"Welcome to the AI Number Guessing Game!\")\n",
        "    print(\"Think of a number between 1 and 100, and I will try to guess it!\")\n",
        "    input(\"Press Enter when you're ready...\")  # Wait for user confirmation\n",
        "\n",
        "    ai_guess_number(1, 100)  # AI starts guessing between 1 and 100\n",
        "\n",
        "if __name__ == \"__main__\":\n",
        "    main()\n",
        "\n"
      ]
    }
  ]
}